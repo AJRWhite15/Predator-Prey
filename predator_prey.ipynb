{
 "cells": [
  {
   "cell_type": "markdown",
   "metadata": {},
   "source": [
    "# Predator-Prey Simulation\n",
    "The code below runs a simulation of a predator-prey relationship.<br>\n",
    "A number of parameters can be adjusted below to explore their effect on the relationship.\n",
    "\n",
    "### How to use the simulation\n",
    "This page (known as a Jupyter Notebook) is set up as a series of 'cells'.<br>\n",
    "Each cell needs to be run in turn. You can then edit and rerun any cells as required.\n",
    "\n",
    "## Select Cell > Run All from the menubar at the top. This will run all of the cells to perform the initial set up\n",
    "\n",
    "### You can rerun individual cells by selecting them and pressing Ctrl + Enter\n",
    "\n",
    "##### Details:\n",
    "Language: Python 3<br>\n",
    "Date: 27/7/19<br>\n",
    "Author: Dr A White, Seton Catholic College"
   ]
  },
  {
   "cell_type": "markdown",
   "metadata": {},
   "source": [
    "### The Code\n",
    "Below is the code that executes the simulation.\n",
    "DO NOT TOUCH THIS CODE OR YOU WILL BREAK IT! (Unless you know what you're doing).\n",
    "\n",
    "### Keep scrolling down to edit and rerun the simulation"
   ]
  },
  {
   "cell_type": "code",
   "execution_count": 230,
   "metadata": {},
   "outputs": [],
   "source": [
    "import random\n",
    "import time\n",
    "import math\n",
    "import matplotlib.pyplot as plt\n",
    "%matplotlib inline\n",
    "   \n",
    "\n",
    "class predator_prey(object):\n",
    "    \"\"\"The class to handle simulator parameters, grid coordinates,\n",
    "       and stepping through predator-prey generations.\n",
    "       \n",
    "       Parameters:\n",
    "           prey: the starting number of prey\n",
    "           predators: the starting number of predators\n",
    "           dim: 1D hexagonal grid size\n",
    "           breed_factor: Factor by which the surviving prey population increases\n",
    "           kill_factor: Number of additional neighbouring prey killed\n",
    "                        following a direct kill\n",
    "    \"\"\"\n",
    "    \n",
    "    def __init__(self, prey=6, predators=1, dim=5, breed_factor=2, kill_factor=2):\n",
    "        \"Initialise the class\"\n",
    "        \n",
    "        # Check parameters are within acceptable bounds\n",
    "        self.dim = check_parameters(dim, [2, 10])\n",
    "        self.breed_factor = check_parameters(breed_factor, [1, 4])\n",
    "        self.kill_factor = check_parameters(kill_factor, [0, 6])\n",
    "        \n",
    "        self.predator_gens = [check_parameters(predators, [1, self.max_loc])]\n",
    "        self.prey_gens = [check_parameters(prey, [2, self.max_loc])]\n",
    "        \n",
    "        # Define empty coordinate sets\n",
    "        self.prey_coords = set()\n",
    "        self.predator_coords = set()\n",
    "    \n",
    "    \n",
    "    def reset(self):\n",
    "        \"Reset the predator-prey generations to the starting numbers\"\n",
    "        self.predator_gens = self.predator_gens[0:1]\n",
    "        self.prey_gens = self.prey_gens[0:1]\n",
    "\n",
    "    \n",
    "    def distribute(self, num):\n",
    "        \"\"\"Generate a random set of hexagonal grid coordinates.\n",
    "           Chooses the smallest number to either include\n",
    "           or exclude from all possible coordinates.\n",
    "           Uses hexagonal 'cubic' coordinate system as described here:\n",
    "           https://www.redblobgames.com/grids/hexagons/\n",
    "           \n",
    "           Parameters:\n",
    "               num: the total number of coordinates that need to be distributed\n",
    "        \"\"\"\n",
    "        # Determine whether to search for included or excluded coordinates\n",
    "        search_num = min([num, self.max_loc - num])\n",
    "        \n",
    "        coords = set()\n",
    "        while len(coords) < search_num:\n",
    "            coords.add(get_coord(self.dim))\n",
    "            \n",
    "        if self.max_loc - num < self.max_loc/2:\n",
    "            return self.all_coords \n",
    "        else:\n",
    "            return coords\n",
    "        \n",
    "        \n",
    "    @property\n",
    "    def max_loc(self):\n",
    "        \"Return the maximum number of grid coordinates\"\n",
    "        loc = [i for i in range(self.dim, 2*self.dim)]\n",
    "        loc += loc[:-1]\n",
    "        return sum(loc)\n",
    "    \n",
    "    @property\n",
    "    def prey(self):\n",
    "        \"Return the number of prey in the current generation\"\n",
    "        return self.prey_gens[-1]\n",
    "    \n",
    "    \n",
    "    @property\n",
    "    def predators(self):\n",
    "        \"Return the number of predators in the current generation\"\n",
    "        return self.predator_gens[-1]\n",
    "    \n",
    "    \n",
    "    @property\n",
    "    def all_coords(self):\n",
    "        \"Return a set of all possible grid coordinates\"\n",
    "        all_coords = set()\n",
    "        for x in range(self.dim):\n",
    "            for y in range(1-self.dim, self.dim-x):\n",
    "                all_coords.add((x, y, -(y+x)))\n",
    "                all_coords.add((-x, -y, y+x))\n",
    "        \n",
    "        return all_coords\n",
    "    \n",
    "    \n",
    "    def step(self):\n",
    "        \"Run the simulator for one generation.\"\n",
    "        \n",
    "        # Distribute predators and prey\n",
    "        self.prey_coords = self.distribute(self.prey)\n",
    "        self.predator_coords = self.distribute(self.predators)\n",
    "        \n",
    "        # Find direct kills\n",
    "        direct_kills = self.predator_coords & self.prey_coords\n",
    "        \n",
    "        # Find kills in in coordinates neighbouring direct kills\n",
    "        all_neighbour_kills = {}\n",
    "        for coord in direct_kills:\n",
    "            kill_set = (get_neighbours(coord) & self.prey_coords) - direct_kills\n",
    "            if len(kill_set) > 0:\n",
    "                all_neighbour_kills[coord] = [kill_set, len(kill_set)]\n",
    "        \n",
    "        # Determine unique neighbour kills - i.e. one prey can't be killed twice\n",
    "        neighbour_kill_coords = set()\n",
    "        kills_w_neighbours = set()\n",
    "        \n",
    "        for i in range(1,7):\n",
    "            for coord in all_neighbour_kills.keys():\n",
    "                if all_neighbour_kills[coord][1] == i:\n",
    "                    kill_set = all_neighbour_kills[coord][0] - neighbour_kill_coords\n",
    "                    if 0 < len(kill_set) <= self.kill_factor:\n",
    "                        neighbour_kill_coords = neighbour_kill_coords | kill_set\n",
    "                    else:\n",
    "                        # THIS NEEDS FIXING - doesn't maximise number of neighbour kills\"\n",
    "                        neighbour_kill_coords = neighbour_kill_coords | set(list(kill_set)[:self.kill_factor])\n",
    "                    \n",
    "                    kills_w_neighbours.add(coord)\n",
    "                    \n",
    "        # Get new predator-prey populations\n",
    "        total_kills = len(direct_kills) + len(neighbour_kill_coords)\n",
    "        \n",
    "        new_prey_pop = round(self.breed_factor*(self.prey_gens[-1] - total_kills))\n",
    "        new_predator_pop = round((self.predator_gens[-1] - (self.predators - len(direct_kills))) + (len(kills_w_neighbours)))\n",
    "        \n",
    "        self.prey_gens += [check_parameters(new_prey_pop, [1, self.max_loc])]\n",
    "        self.predator_gens += [check_parameters(new_predator_pop, [1, self.max_loc])]\n",
    "        \n",
    "\n",
    "def check_parameters(param, defaults):\n",
    "    \"\"\"Check parameters are within acceptable bounds.\n",
    "    \n",
    "       Parameters:\n",
    "           param: the parameter to check\n",
    "           defaults: list in form [minimum, maximum]\n",
    "    \"\"\"\n",
    "    if param < defaults[0]:\n",
    "        return defaults[0]\n",
    "    elif param > defaults[1]:\n",
    "        return defaults[1]\n",
    "    else:\n",
    "        return param\n",
    "\n",
    "    \n",
    "def get_coord(dim):  \n",
    "    \"\"\"Randomly generate a single coordinate on the hexagonal grid.\n",
    "    \n",
    "       Parameters:\n",
    "           dim: 1D hexagonal grid size\n",
    "    \"\"\"\n",
    "    x = random.randrange(dim)\n",
    "    y = random.randrange(1-dim, dim-x)\n",
    "    z = -(y+x)\n",
    "\n",
    "    sign = 1 if random.random() < 0 else -1\n",
    "\n",
    "    return (x*sign, y*sign, z*sign)\n",
    "        \n",
    "        \n",
    "def get_neighbours(coord):\n",
    "    \"\"\"Generate coordinates of neighbouring cells around a given coordinate.\n",
    "       \n",
    "       Parameters:\n",
    "           coord: The cooridnate around which to find neighbours\n",
    "    \"\"\"\n",
    "    return set([(coord[0], coord[1]+1, coord[2]-1),\n",
    "                (coord[0], coord[1]-1, coord[2]+1),\n",
    "                (coord[0]+1, coord[1], coord[2]-1),\n",
    "                (coord[0]-1, coord[1], coord[2]+1),\n",
    "                (coord[0]+1, coord[1]-1, coord[2]),\n",
    "                (coord[0]-1, coord[1]+1, coord[2])])\n",
    "        \n",
    "        \n",
    "def plot(pp):\n",
    "    \"\"\"Create a plot showing the current positions of prey and predators\n",
    "       and the predator-prey populations for each generation.\n",
    "       \n",
    "       Parameters:\n",
    "           pp: a predator-prey class instance\n",
    "    \"\"\"\n",
    "    # create figure\n",
    "    fig, ax = plt.subplots(2, 1, figsize=(8,8), gridspec_kw={'height_ratios': [2, 1]});\n",
    "\n",
    "    # Vectors to convert hexagonal coordinates to cartesian\n",
    "    x_vector = [0.5, math.sqrt(3)/2]\n",
    "    y_vector = [-0.5, math.sqrt(3)/2]\n",
    "    z_vector = [0, -math.sqrt(3)/2]\n",
    "\n",
    "    colors = ['r', 'b']\n",
    "    legend_labels = ['predators', 'prey']\n",
    "    \n",
    "    # Plot predator-prey locations\n",
    "    for ind, k in enumerate([pp.predator_coords, pp.prey_coords]):\n",
    "        x = [(i[0] * x_vector[0]) + (i[1] * y_vector[0]) + (i[2] * z_vector[0]) for i in k]\n",
    "        y = [(i[0] * x_vector[1]) + (i[1] * y_vector[1]) + (i[2] * z_vector[1]) for i in k]\n",
    "\n",
    "        ax[0].plot(x, y, 'o', color=colors[ind], ms=8/(ind+1), label=legend_labels[ind]);\n",
    "    \n",
    "    lim = max([abs(i) for i in ax[0].get_ylim() + ax[0].get_xlim()])\n",
    "    ax[0].set_ylim([-lim, lim])\n",
    "    ax[0].set_xlim([-lim, lim])\n",
    "    ax[0].get_xaxis().set_visible(False)\n",
    "    ax[0].get_yaxis().set_visible(False)\n",
    "    ax[0].legend()    \n",
    "    \n",
    "    # Plot populations over time\n",
    "    for ind, k in enumerate([pp.predator_gens[:-1], pp.prey_gens[:-1]]):\n",
    "        x = [i for i in range(1,len(k)+1)]\n",
    "        ax[1].plot(x, k, 'o-', color=colors[ind])\n",
    "    \n",
    "    ax[1].set_ylabel('Population size')\n",
    "    ax[1].set_xlabel('Generation number')"
   ]
  },
  {
   "cell_type": "markdown",
   "metadata": {},
   "source": [
    "## Simulator\n",
    "Here is where you can run the simulation.\n",
    "\n",
    "First, set up your parameters in the cells below:"
   ]
  },
  {
   "cell_type": "markdown",
   "metadata": {},
   "source": [
    "### Parameters\n",
    "The simulator uses a hexagonal grid. **Choose a number between 5 - 10** to set the size of the grid.\n",
    "\n",
    "When you have changed the number, rerun the cell by pressing Ctrl + Enter."
   ]
  },
  {
   "cell_type": "code",
   "execution_count": 262,
   "metadata": {},
   "outputs": [],
   "source": [
    "grid_size = 8"
   ]
  },
  {
   "cell_type": "markdown",
   "metadata": {},
   "source": [
    "Change the numbers below to set the starting number of prey and predator animals. **Choose sensible numbers. Extreme numbers will automatically be reset to the defaults.**\n",
    "\n",
    "When you have changed the numbers, rerun the cell by pressing Ctrl + Enter"
   ]
  },
  {
   "cell_type": "code",
   "execution_count": 265,
   "metadata": {},
   "outputs": [],
   "source": [
    "starting_number_of_prey = 6\n",
    "starting_number_of_predators = 1"
   ]
  },
  {
   "cell_type": "markdown",
   "metadata": {},
   "source": [
    "Change the number below to set how rapidly the prey reproduce.\n",
    "\n",
    "2 means that the surviving prey population will double.\n",
    "\n",
    "**Choose a sensible number between 1 - 4. Extreme numbers will automatically be reset to the defaults.**\n",
    "\n",
    "When you have changed the number, rerun the cell by pressing Ctrl + Enter."
   ]
  },
  {
   "cell_type": "code",
   "execution_count": 261,
   "metadata": {},
   "outputs": [],
   "source": [
    "breeding_rate = 1.5"
   ]
  },
  {
   "cell_type": "markdown",
   "metadata": {},
   "source": [
    "Change the number below to set how how many extra prey predators can kill.\n",
    "\n",
    "2 means that a predator that makes a kill can also kill and extra 2 nearby prey.\n",
    "\n",
    "**Choose a sensible number between 0 - 6. Extreme numbers will automatically be reset to the defaults.**\n",
    "\n",
    "When you have changed the number, rerun the cell by pressing Ctrl + Enter."
   ]
  },
  {
   "cell_type": "code",
   "execution_count": 38,
   "metadata": {},
   "outputs": [],
   "source": [
    "predator_kill_rate = 2"
   ]
  },
  {
   "cell_type": "markdown",
   "metadata": {},
   "source": [
    "### Rerun the cell below if you change any parameters as this will reset the simulator\n",
    "\n",
    "Run the cell by pressing Ctrl + Enter."
   ]
  },
  {
   "cell_type": "code",
   "execution_count": 283,
   "metadata": {},
   "outputs": [],
   "source": [
    "pp = predator_prey(\n",
    "    prey=starting_number_of_prey,\n",
    "    predators=starting_number_of_predators,\n",
    "    dim=grid_size,\n",
    "    breed_factor=breeding_rate,\n",
    "    kill_factor=predator_kill_rate)"
   ]
  },
  {
   "cell_type": "markdown",
   "metadata": {},
   "source": [
    "### Run the cell below as many times as you like to step through sequential generations of predators and prey.\n",
    "Run the cell by pressing Ctrl + Enter"
   ]
  },
  {
   "cell_type": "code",
   "execution_count": 284,
   "metadata": {},
   "outputs": [
    {
     "name": "stdout",
     "output_type": "stream",
     "text": [
      "set()\n"
     ]
    },
    {
     "data": {
      "image/png": "[encoded data removed]",
      "text/plain": [
       "<matplotlib.figure.Figure at 0x113af2f98>"
      ]
     },
     "metadata": {},
     "output_type": "display_data"
    }
   ],
   "source": [
    "pp.step()\n",
    "plot(pp)"
   ]
  },
  {
   "cell_type": "code",
   "execution_count": null,
   "metadata": {},
   "outputs": [],
   "source": []
  }
 ],
 "metadata": {
  "anaconda-cloud": {},
  "kernelspec": {
   "display_name": "pxrf_calibration-env",
   "language": "python",
   "name": "pxrf_calibration-env"
  },
  "language_info": {
   "codemirror_mode": {
    "name": "ipython",
    "version": 3
   },
   "file_extension": ".py",
   "mimetype": "text/x-python",
   "name": "python",
   "nbconvert_exporter": "python",
   "pygments_lexer": "ipython3",
   "version": "3.6.5"
  }
 },
 "nbformat": 4,
 "nbformat_minor": 2
}
